{
 "cells": [
  {
   "cell_type": "markdown",
   "metadata": {
    "slideshow": {
     "slide_type": "slide"
    }
   },
   "source": [
    "<h3 align='center'>MACNM Computational Workshop No. 6 (Jan. 12 Afternoon)<br>User Profiling<br>by Zhicong Chen</h3>"
   ]
  },
  {
   "cell_type": "markdown",
   "metadata": {
    "slideshow": {
     "slide_type": "slide"
    }
   },
   "source": [
    "### NOTES"
   ]
  },
  {
   "cell_type": "markdown",
   "metadata": {
    "slideshow": {
     "slide_type": "-"
    }
   },
   "source": [
    "<img src=\"https://keymediasolutions.com/wp-content/uploads/2014/09/audience.png\" width=\"60%\" style=\"float: center\">\n"
   ]
  },
  {
   "cell_type": "markdown",
   "metadata": {},
   "source": [
    "<p>**0. Introduction:**</p>\n",
    "\n",
    "    What is User Profiling/User Tagging?\n",
    "        a. Audience Targeting (Computational Advertising)\n",
    "        b. Recommender System (Digital Marketing)\n",
    "        c. User Behavioral Analytics (Computational Social Science)\n",
    "        d. Preditiction (Machine Learning)\n",
    "        \n",
    "    Recommended Books (in Chinese)\n",
    "        a. Salganik, M. J. (2017). Bit by Bit: Social Research in the Digital Age. Princeton University Press.\n",
    "        b. 刘鹏. (2015). 计算广告: 互联网商业变现的市场与技术. 人民邮电出版社.\n",
    "        c. 项亮. (2012). 推荐系统实践. 人民邮电出版社. \n",
    "        \n",
    "<!--\n",
    "<img src=\"https://img13.360buyimg.com/n1/jfs/t29227/7/157336739/61515/7dd1266e/5be96440Ncb630658.jpg\" width=\"40%\" style=\"float: center\">\n",
    "<img src=\"https://images-cn.ssl-images-amazon.com/images/I/51HI9UvBIyL._SX397_BO1,204,203,200_.jpg\" width=\"40%\" style=\"float: center\">\n",
    "-->\n",
    "\n",
    "    Extract User Profiles (Feature Engineering)\n",
    "        a. Demographics\n",
    "        b. Exposure Behaviour\n",
    "            i. Statuses Count\n",
    "            ii. Number of Followers/Followees\n",
    "        c. Timing\n",
    "            i. Time of the Day (24 Hours)\n",
    "            ii. Time of the Week (Weekday/Weekend)\n",
    "        d. Locations\n",
    "        e. Semantic Features (Text Mining on Media Content)\n",
    "            i. Content Category\n",
    "            ii. Content Keywords\n",
    "\n",
    "    Predicting User Profiles\n",
    "        a. Linear Regression\n",
    "            i. Independent Variables\n",
    "            ii. Dependent Variables\n",
    "\n",
    "<img src=\"https://image.slidesharecdn.com/simplelinearregressionpelatihan-090829234643-phpapp02/95/simple-linier-regression-9-728.jpg?cb=1251589640\" width=\"60%\" style=\"float: center\">\n",
    "\n",
    "<img src=\"http://www.dr-asims-anatomy-cafe.com/wp-content/uploads/2015/12/simple-linear-regression-equation-624x468.jpg\" width=\"60%\" style=\"float: center\">\n",
    "\n",
    "\n",
    "\n",
    "\n",
    "        b. Machine Learning\n",
    "        \n",
    "    The Framework of Machine Learning\n",
    "<img src=\"https://anniepyim.github.io/kaggle_images/Supervised_ML.png\" width=\"60%\" style=\"float: center\">\n",
    "\n",
    "        a. Supervised Learning\n",
    "            i. Classification (DV is categorical)\n",
    "            ii. Regression (DV is continuous)\n",
    "                Linear Regression\n",
    "        b. Unsupervised Learning\n",
    "            i. Clustering\n",
    "        "
   ]
  },
  {
   "cell_type": "markdown",
   "metadata": {},
   "source": [
    "<p>**1. Machine Learning:**</p>\n",
    "\n",
    "        a. Three Types of Machine Learning\n",
    "    \n",
    "<img src=\"https://moogsoftcom.wpengine.com/wp-content/uploads/2017/08/Regression-Class-Clustering-graph.png\" width=\"60%\" style=\"float: center\">\n",
    "\n",
    "        b. Supervised Learning\n",
    "            i. Classification (DV is categorical)\n",
    "            ii. Regression (DV is continuous)     \n",
    "        \n",
    "<!-- \n",
    "<img src=\"https://4.bp.blogspot.com/-3oxUNXBM7m4/Wldt7bwXcSI/AAAAAAAAAuo/ggcIz1ljPdg1c9x-uLCQVPmEI9ty_0YkACLcBGAs/s1600/What%2Bis%2Bthe%2BDifference%2BBetween%2BClassification%2Band%2BRegression.jpg\" width=\"60%\" style=\"float: left\">\n",
    "<img src=\"https://anniepyim.github.io/kaggle_images/Regression_vs_Classification.png\" width=\"60%\" style=\"float: left\">\n",
    "-->\n",
    "\n",
    "\n",
    "<img src=\"https://cdn-images-1.medium.com/max/1600/1*ASYpFfDh7XnreU-ygqXonw.png\" width=\"60%\" style=\"float: center\">\n",
    "\n",
    "\n",
    "\n",
    "        c. Unsupervised Learning\n",
    "            i. Clustering\n",
    "\n",
    "                Birds of a feather flock together\n",
    "\n",
    "<img src=\"https://upload.wikimedia.org/wikipedia/commons/thumb/c/c8/Cluster-2.svg/1920px-Cluster-2.svg.png\" width=\"60%\" style=\"float: center\">\n",
    "\n",
    "        d. Cross Validations\n",
    "\n",
    "            i. Split Training Set and Testing Set\n",
    "\n",
    "<img src=\"https://image.slidesharecdn.com/mlregression-splittingdatasets-170914113926/95/machine-learning-splitting-datasets-3-638.jpg?cb=1505389251\" width=\"60%\" style=\"float: center\">\n",
    "\n",
    "\n",
    "            ii. Cross Validations\n",
    "\n",
    "<img src=\"https://upload.wikimedia.org/wikipedia/commons/1/1c/K-fold_cross_validation_EN.jpg\" width=\"60%\" style=\"float: center\">"
   ]
  },
  {
   "cell_type": "markdown",
   "metadata": {},
   "source": [
    "<p>**2. Clustering:**</p>\n",
    "\n",
    "    a. Feature Engineering\n",
    "        i. Factor Analysis\n",
    "\n",
    "<img src=\"https://www.mailman.columbia.edu/sites/default/files/png/Krueger-figure.png\" width=\"60%\" style=\"float: center\">\n",
    "\n",
    "        ii. Principle Component Analysis\n",
    "\n",
    "\n",
    "<img src=\"https://prachimjoshi.files.wordpress.com/2015/07/pca_example.gif\" width=\"60%\" style=\"float: center\">"
   ]
  },
  {
   "cell_type": "markdown",
   "metadata": {},
   "source": [
    "    b. K-means Clustering (Centroid-based)\n",
    "        i. Example\n",
    "\n",
    "<img src=\"http://www.learnbymarketing.com/wp-content/uploads/2015/01/method-k-means-steps-example.png\" width=\"90%\" style=\"float: center\">\n",
    "\n",
    "    c. Hierarchical Clustering (Connectivity-based)\n",
    "\n",
    "<img src=\"https://www.researchgate.net/profile/Carsten_Walther/publication/273456906/figure/fig3/AS:294866065084419@1447312956501/Example-of-hierarchical-clustering-clusters-are-consecutively-merged-with-the-most.png\" width=\"80%\" style=\"float: center\">\n",
    "\n",
    "<img src=\"https://www.statisticshowto.datasciencecentral.com/wp-content/uploads/2016/11/clustergram.png\" width=\"80%\" style=\"float: center\">"
   ]
  },
  {
   "cell_type": "markdown",
   "metadata": {},
   "source": [
    "<p>**3. Classification:**</p>\n",
    "\n",
    "    a. Random Forests (Based on Decision Trees)\n",
    "    \n",
    "\n",
    "<img src=\"https://i.stack.imgur.com/l6r4F.jpg\" width=\"80%\" style=\"float: center\">\n",
    "\n",
    "    Let’s say we wanted to classify different species of iris flowers (Iris Setosa, Iris Versicolour, Iris Virginica) given 4 quantities: the width and length of the flower’s sepal (the leaves that used to make up the flower bud), as well as the width and length of the flower’s petals. What kinds of questions should we ask in order to construct a good decision tree?\n",
    "\n",
    "    Say we pick a particular variable, such as flower petal length, and a corresponding value of that particular variable, such as 2.45 cm to reduce the number of possible species that some particular iris could be. Now we can divide all the training data into two groups: data points for which flower petal length is smaller than or equal to 2.45 cm, and the set of all data points for which flower petal length is greater than 2.45 cm. By choosing more variables and values, we can divide the data into different categories, then find out what species each category corresponds to.\n",
    "\n",
    "    By varying the height (i.e. number of levels) of the decision tree, we can control the number of regions we split the data into. As always, trees that are too short can underfit, and trees that are too tall can overfit.\n",
    "\n",
    "\n",
    "\n",
    "<img src=\"https://ml.berkeley.edu/blog/assets/tutorials/5/iris-DT.png\" width=\"60%\" style=\"float: center\">"
   ]
  },
  {
   "cell_type": "markdown",
   "metadata": {},
   "source": [
    "### CODE"
   ]
  },
  {
   "cell_type": "code",
   "execution_count": 12,
   "metadata": {
    "ExecuteTime": {
     "end_time": "2019-01-13T02:00:56.232403Z",
     "start_time": "2019-01-13T02:00:56.229858Z"
    }
   },
   "outputs": [],
   "source": [
    "import pandas as pd\n",
    "import numpy as np\n",
    "import matplotlib.pyplot as plt\n",
    "import datetime"
   ]
  },
  {
   "cell_type": "markdown",
   "metadata": {},
   "source": [
    "# Feature Extraction\n",
    "\n",
    "    a. Demographics\n",
    "    b. Exposure Behaviour\n",
    "        i. Statuses Count\n",
    "        ii. Number of Followers/Followees\n",
    "    c. Timing\n",
    "        i. Time of the Day (24 Hours)\n",
    "        ii. Time of the Week (Weekday/Weekend)\n",
    "    d. Locations\n",
    "    e. Semantic Features (Exercise)\n",
    "        i. Content Category\n",
    "        ii. Content Keywords"
   ]
  },
  {
   "cell_type": "code",
   "execution_count": 13,
   "metadata": {
    "ExecuteTime": {
     "end_time": "2019-01-13T02:00:56.885837Z",
     "start_time": "2019-01-13T02:00:56.871690Z"
    }
   },
   "outputs": [
    {
     "name": "stdout",
     "output_type": "stream",
     "text": [
      "<class 'pandas.core.frame.DataFrame'>\n",
      "RangeIndex: 1198 entries, 0 to 1197\n",
      "Data columns (total 16 columns):\n",
      "user_name                    1198 non-null int64\n",
      "user_statuses_count          1198 non-null int64\n",
      "user_followers_count         1198 non-null int64\n",
      "user_friends_count           1198 non-null int64\n",
      "user_verified                1198 non-null bool\n",
      "user_utc_offset              0 non-null float64\n",
      "user_location                661 non-null object\n",
      "user_lang                    1198 non-null object\n",
      "user_time_zone               0 non-null float64\n",
      "user_created_at_timestamp    1198 non-null float64\n",
      "user_protected               1198 non-null bool\n",
      "user_description             839 non-null object\n",
      "user_gender                  284 non-null object\n",
      "user_country                 489 non-null object\n",
      "user_state                   291 non-null object\n",
      "user_city                    266 non-null object\n",
      "dtypes: bool(2), float64(3), int64(4), object(7)\n",
      "memory usage: 133.4+ KB\n"
     ]
    }
   ],
   "source": [
    "df = pd.read_csv('../data/user_profiles_ch_anony.csv')\n",
    "df.info()"
   ]
  },
  {
   "cell_type": "code",
   "execution_count": 14,
   "metadata": {
    "ExecuteTime": {
     "end_time": "2019-01-13T02:00:57.278009Z",
     "start_time": "2019-01-13T02:00:57.265348Z"
    },
    "scrolled": true
   },
   "outputs": [
    {
     "name": "stdout",
     "output_type": "stream",
     "text": [
      "<class 'pandas.core.frame.DataFrame'>\n",
      "Int64Index: 1198 entries, 0 to 1197\n",
      "Data columns (total 14 columns):\n",
      "user_name                    1198 non-null int64\n",
      "user_statuses_count          1198 non-null int64\n",
      "user_followers_count         1198 non-null int64\n",
      "user_friends_count           1198 non-null int64\n",
      "user_verified                1198 non-null bool\n",
      "user_location                661 non-null object\n",
      "user_lang                    1198 non-null object\n",
      "user_created_at_timestamp    1198 non-null float64\n",
      "user_protected               1198 non-null bool\n",
      "user_description             839 non-null object\n",
      "user_gender                  284 non-null object\n",
      "user_country                 489 non-null object\n",
      "user_state                   291 non-null object\n",
      "user_city                    266 non-null object\n",
      "dtypes: bool(2), float64(1), int64(4), object(7)\n",
      "memory usage: 124.0+ KB\n"
     ]
    }
   ],
   "source": [
    "df = df.drop_duplicates()\n",
    "df = df.drop(['user_utc_offset', 'user_time_zone'], axis = 1)\n",
    "df.info()"
   ]
  },
  {
   "cell_type": "code",
   "execution_count": 15,
   "metadata": {
    "ExecuteTime": {
     "end_time": "2019-01-13T02:00:57.843553Z",
     "start_time": "2019-01-13T02:00:57.836516Z"
    },
    "scrolled": true
   },
   "outputs": [
    {
     "data": {
      "text/plain": [
       "0     2\n",
       "1     9\n",
       "2    20\n",
       "3    12\n",
       "4    11\n",
       "Name: user_created_at_timestamp, dtype: int64"
      ]
     },
     "execution_count": 15,
     "metadata": {},
     "output_type": "execute_result"
    }
   ],
   "source": [
    "df['user_created_at_timestamp'].head().apply(lambda x: datetime.datetime.fromtimestamp(x).hour)"
   ]
  },
  {
   "cell_type": "code",
   "execution_count": 16,
   "metadata": {
    "ExecuteTime": {
     "end_time": "2019-01-13T02:01:00.284548Z",
     "start_time": "2019-01-13T02:01:00.269930Z"
    },
    "scrolled": false
   },
   "outputs": [
    {
     "data": {
      "text/html": [
       "<div>\n",
       "<style scoped>\n",
       "    .dataframe tbody tr th:only-of-type {\n",
       "        vertical-align: middle;\n",
       "    }\n",
       "\n",
       "    .dataframe tbody tr th {\n",
       "        vertical-align: top;\n",
       "    }\n",
       "\n",
       "    .dataframe thead th {\n",
       "        text-align: right;\n",
       "    }\n",
       "</style>\n",
       "<table border=\"1\" class=\"dataframe\">\n",
       "  <thead>\n",
       "    <tr style=\"text-align: right;\">\n",
       "      <th></th>\n",
       "      <th>user_name</th>\n",
       "      <th>user_statuses_count</th>\n",
       "      <th>user_followers_count</th>\n",
       "      <th>user_friends_count</th>\n",
       "      <th>user_verified</th>\n",
       "      <th>user_protected</th>\n",
       "    </tr>\n",
       "  </thead>\n",
       "  <tbody>\n",
       "    <tr>\n",
       "      <th>0</th>\n",
       "      <td>0</td>\n",
       "      <td>10094</td>\n",
       "      <td>306</td>\n",
       "      <td>807</td>\n",
       "      <td>False</td>\n",
       "      <td>False</td>\n",
       "    </tr>\n",
       "    <tr>\n",
       "      <th>1</th>\n",
       "      <td>1</td>\n",
       "      <td>17</td>\n",
       "      <td>4</td>\n",
       "      <td>77</td>\n",
       "      <td>False</td>\n",
       "      <td>False</td>\n",
       "    </tr>\n",
       "    <tr>\n",
       "      <th>2</th>\n",
       "      <td>2</td>\n",
       "      <td>5201</td>\n",
       "      <td>780</td>\n",
       "      <td>511</td>\n",
       "      <td>False</td>\n",
       "      <td>False</td>\n",
       "    </tr>\n",
       "    <tr>\n",
       "      <th>3</th>\n",
       "      <td>3</td>\n",
       "      <td>15562</td>\n",
       "      <td>139</td>\n",
       "      <td>270</td>\n",
       "      <td>False</td>\n",
       "      <td>False</td>\n",
       "    </tr>\n",
       "    <tr>\n",
       "      <th>4</th>\n",
       "      <td>4</td>\n",
       "      <td>1122</td>\n",
       "      <td>2219</td>\n",
       "      <td>37</td>\n",
       "      <td>False</td>\n",
       "      <td>False</td>\n",
       "    </tr>\n",
       "  </tbody>\n",
       "</table>\n",
       "</div>"
      ],
      "text/plain": [
       "   user_name  user_statuses_count  user_followers_count  user_friends_count  \\\n",
       "0          0                10094                   306                 807   \n",
       "1          1                   17                     4                  77   \n",
       "2          2                 5201                   780                 511   \n",
       "3          3                15562                   139                 270   \n",
       "4          4                 1122                  2219                  37   \n",
       "\n",
       "   user_verified  user_protected  \n",
       "0          False           False  \n",
       "1          False           False  \n",
       "2          False           False  \n",
       "3          False           False  \n",
       "4          False           False  "
      ]
     },
     "execution_count": 16,
     "metadata": {},
     "output_type": "execute_result"
    }
   ],
   "source": [
    "numeric_features = df._get_numeric_data().columns.values.tolist()\n",
    "numeric_features.remove('user_created_at_timestamp')\n",
    "\n",
    "df_refined = df[numeric_features].dropna()\n",
    "df_refined.head()"
   ]
  },
  {
   "cell_type": "code",
   "execution_count": 31,
   "metadata": {},
   "outputs": [
    {
     "data": {
      "text/plain": [
       "{'Algeria',\n",
       " 'Australia',\n",
       " 'Bangladesh',\n",
       " 'Canada',\n",
       " 'Chile',\n",
       " 'China',\n",
       " 'Colombia',\n",
       " 'Finland',\n",
       " 'France',\n",
       " 'Germany',\n",
       " 'Grenada',\n",
       " 'Hong Kong S.A.R.',\n",
       " 'Indonesia',\n",
       " 'Japan',\n",
       " 'Luxembourg',\n",
       " 'Macao S.A.R',\n",
       " 'Malaysia',\n",
       " 'Mali',\n",
       " 'Mexico',\n",
       " 'Mongolia',\n",
       " 'Philippines',\n",
       " 'Portugal',\n",
       " 'Russia',\n",
       " 'Saudi Arabia',\n",
       " 'Singapore',\n",
       " 'South Korea',\n",
       " 'Sweden',\n",
       " 'Switzerland',\n",
       " 'Taiwan',\n",
       " 'United Kingdom',\n",
       " 'United States of America',\n",
       " nan}"
      ]
     },
     "execution_count": 31,
     "metadata": {},
     "output_type": "execute_result"
    }
   ],
   "source": [
    "set(df['user_country'].values)"
   ]
  },
  {
   "cell_type": "code",
   "execution_count": 32,
   "metadata": {
    "ExecuteTime": {
     "end_time": "2019-01-12T03:38:42.140949Z",
     "start_time": "2019-01-12T03:38:42.101755Z"
    }
   },
   "outputs": [
    {
     "data": {
      "text/html": [
       "<div>\n",
       "<style scoped>\n",
       "    .dataframe tbody tr th:only-of-type {\n",
       "        vertical-align: middle;\n",
       "    }\n",
       "\n",
       "    .dataframe tbody tr th {\n",
       "        vertical-align: top;\n",
       "    }\n",
       "\n",
       "    .dataframe thead th {\n",
       "        text-align: right;\n",
       "    }\n",
       "</style>\n",
       "<table border=\"1\" class=\"dataframe\">\n",
       "  <thead>\n",
       "    <tr style=\"text-align: right;\">\n",
       "      <th></th>\n",
       "      <th>user_name</th>\n",
       "      <th>user_statuses_count</th>\n",
       "      <th>user_followers_count</th>\n",
       "      <th>user_friends_count</th>\n",
       "      <th>user_verified</th>\n",
       "      <th>user_protected</th>\n",
       "      <th>user_gender_F</th>\n",
       "      <th>user_gender_M</th>\n",
       "      <th>user_lang_ar</th>\n",
       "      <th>user_lang_de</th>\n",
       "      <th>...</th>\n",
       "      <th>user_register_hour_14</th>\n",
       "      <th>user_register_hour_15</th>\n",
       "      <th>user_register_hour_16</th>\n",
       "      <th>user_register_hour_17</th>\n",
       "      <th>user_register_hour_18</th>\n",
       "      <th>user_register_hour_19</th>\n",
       "      <th>user_register_hour_20</th>\n",
       "      <th>user_register_hour_21</th>\n",
       "      <th>user_register_hour_22</th>\n",
       "      <th>user_register_hour_23</th>\n",
       "    </tr>\n",
       "  </thead>\n",
       "  <tbody>\n",
       "    <tr>\n",
       "      <th>0</th>\n",
       "      <td>0</td>\n",
       "      <td>10094</td>\n",
       "      <td>306</td>\n",
       "      <td>807</td>\n",
       "      <td>False</td>\n",
       "      <td>False</td>\n",
       "      <td>0</td>\n",
       "      <td>1</td>\n",
       "      <td>0</td>\n",
       "      <td>0</td>\n",
       "      <td>...</td>\n",
       "      <td>0</td>\n",
       "      <td>0</td>\n",
       "      <td>0</td>\n",
       "      <td>0</td>\n",
       "      <td>0</td>\n",
       "      <td>0</td>\n",
       "      <td>0</td>\n",
       "      <td>0</td>\n",
       "      <td>0</td>\n",
       "      <td>0</td>\n",
       "    </tr>\n",
       "    <tr>\n",
       "      <th>1</th>\n",
       "      <td>1</td>\n",
       "      <td>17</td>\n",
       "      <td>4</td>\n",
       "      <td>77</td>\n",
       "      <td>False</td>\n",
       "      <td>False</td>\n",
       "      <td>0</td>\n",
       "      <td>0</td>\n",
       "      <td>0</td>\n",
       "      <td>0</td>\n",
       "      <td>...</td>\n",
       "      <td>0</td>\n",
       "      <td>0</td>\n",
       "      <td>0</td>\n",
       "      <td>0</td>\n",
       "      <td>0</td>\n",
       "      <td>0</td>\n",
       "      <td>0</td>\n",
       "      <td>0</td>\n",
       "      <td>0</td>\n",
       "      <td>0</td>\n",
       "    </tr>\n",
       "    <tr>\n",
       "      <th>2</th>\n",
       "      <td>2</td>\n",
       "      <td>5201</td>\n",
       "      <td>780</td>\n",
       "      <td>511</td>\n",
       "      <td>False</td>\n",
       "      <td>False</td>\n",
       "      <td>0</td>\n",
       "      <td>0</td>\n",
       "      <td>0</td>\n",
       "      <td>0</td>\n",
       "      <td>...</td>\n",
       "      <td>0</td>\n",
       "      <td>0</td>\n",
       "      <td>0</td>\n",
       "      <td>0</td>\n",
       "      <td>0</td>\n",
       "      <td>0</td>\n",
       "      <td>1</td>\n",
       "      <td>0</td>\n",
       "      <td>0</td>\n",
       "      <td>0</td>\n",
       "    </tr>\n",
       "    <tr>\n",
       "      <th>3</th>\n",
       "      <td>3</td>\n",
       "      <td>15562</td>\n",
       "      <td>139</td>\n",
       "      <td>270</td>\n",
       "      <td>False</td>\n",
       "      <td>False</td>\n",
       "      <td>0</td>\n",
       "      <td>0</td>\n",
       "      <td>0</td>\n",
       "      <td>0</td>\n",
       "      <td>...</td>\n",
       "      <td>0</td>\n",
       "      <td>0</td>\n",
       "      <td>0</td>\n",
       "      <td>0</td>\n",
       "      <td>0</td>\n",
       "      <td>0</td>\n",
       "      <td>0</td>\n",
       "      <td>0</td>\n",
       "      <td>0</td>\n",
       "      <td>0</td>\n",
       "    </tr>\n",
       "    <tr>\n",
       "      <th>4</th>\n",
       "      <td>4</td>\n",
       "      <td>1122</td>\n",
       "      <td>2219</td>\n",
       "      <td>37</td>\n",
       "      <td>False</td>\n",
       "      <td>False</td>\n",
       "      <td>0</td>\n",
       "      <td>0</td>\n",
       "      <td>0</td>\n",
       "      <td>0</td>\n",
       "      <td>...</td>\n",
       "      <td>0</td>\n",
       "      <td>0</td>\n",
       "      <td>0</td>\n",
       "      <td>0</td>\n",
       "      <td>0</td>\n",
       "      <td>0</td>\n",
       "      <td>0</td>\n",
       "      <td>0</td>\n",
       "      <td>0</td>\n",
       "      <td>0</td>\n",
       "    </tr>\n",
       "  </tbody>\n",
       "</table>\n",
       "<p>5 rows × 219 columns</p>\n",
       "</div>"
      ],
      "text/plain": [
       "   user_name  user_statuses_count  user_followers_count  user_friends_count  \\\n",
       "0          0                10094                   306                 807   \n",
       "1          1                   17                     4                  77   \n",
       "2          2                 5201                   780                 511   \n",
       "3          3                15562                   139                 270   \n",
       "4          4                 1122                  2219                  37   \n",
       "\n",
       "   user_verified  user_protected  user_gender_F  user_gender_M  user_lang_ar  \\\n",
       "0          False           False              0              1             0   \n",
       "1          False           False              0              0             0   \n",
       "2          False           False              0              0             0   \n",
       "3          False           False              0              0             0   \n",
       "4          False           False              0              0             0   \n",
       "\n",
       "   user_lang_de          ...            user_register_hour_14  \\\n",
       "0             0          ...                                0   \n",
       "1             0          ...                                0   \n",
       "2             0          ...                                0   \n",
       "3             0          ...                                0   \n",
       "4             0          ...                                0   \n",
       "\n",
       "   user_register_hour_15  user_register_hour_16  user_register_hour_17  \\\n",
       "0                      0                      0                      0   \n",
       "1                      0                      0                      0   \n",
       "2                      0                      0                      0   \n",
       "3                      0                      0                      0   \n",
       "4                      0                      0                      0   \n",
       "\n",
       "   user_register_hour_18  user_register_hour_19  user_register_hour_20  \\\n",
       "0                      0                      0                      0   \n",
       "1                      0                      0                      0   \n",
       "2                      0                      0                      1   \n",
       "3                      0                      0                      0   \n",
       "4                      0                      0                      0   \n",
       "\n",
       "   user_register_hour_21  user_register_hour_22  user_register_hour_23  \n",
       "0                      0                      0                      0  \n",
       "1                      0                      0                      0  \n",
       "2                      0                      0                      0  \n",
       "3                      0                      0                      0  \n",
       "4                      0                      0                      0  \n",
       "\n",
       "[5 rows x 219 columns]"
      ]
     },
     "execution_count": 32,
     "metadata": {},
     "output_type": "execute_result"
    }
   ],
   "source": [
    "import datetime\n",
    "\n",
    "# adding timing features\n",
    "df['user_register_year'] = df['user_created_at_timestamp'].apply(lambda x: datetime.datetime.fromtimestamp(x).year)\n",
    "df['user_register_day'] = df['user_created_at_timestamp'].apply(lambda x: datetime.datetime.fromtimestamp(x).weekday())\n",
    "df['user_register_hour'] = df['user_created_at_timestamp'].apply(lambda x: datetime.datetime.fromtimestamp(x).hour)\n",
    "\n",
    "categorical_features = ['user_gender',\n",
    "                     'user_lang', \\\n",
    "                     'user_country', \\\n",
    "                     'user_state', \\\n",
    "                     'user_city', \\\n",
    "                     'user_register_year', \\\n",
    "                     'user_register_day', \\\n",
    "                     'user_register_hour']\n",
    "\n",
    "for feature in categorical_features:\n",
    "    df_refined = pd.concat([df_refined, pd.get_dummies(df[feature], prefix = feature)], axis=1) \n",
    "    \n",
    "df_refined.head()"
   ]
  },
  {
   "cell_type": "code",
   "execution_count": null,
   "metadata": {},
   "outputs": [],
   "source": []
  },
  {
   "cell_type": "markdown",
   "metadata": {},
   "source": [
    "# Exercise 1\n",
    "\n",
    "    a. read user_profiles_en_anony.csv\n",
    "    b. specify two types of features: numercial and categorical\n",
    "    c. dummy coding categorical features\n",
    "    d. get refined dataframe for machine learning"
   ]
  },
  {
   "cell_type": "code",
   "execution_count": 12,
   "metadata": {
    "ExecuteTime": {
     "end_time": "2019-01-12T03:41:21.917546Z",
     "start_time": "2019-01-12T03:41:21.885794Z"
    }
   },
   "outputs": [
    {
     "name": "stdout",
     "output_type": "stream",
     "text": [
      "<class 'pandas.core.frame.DataFrame'>\n",
      "Int64Index: 3317 entries, 0 to 3316\n",
      "Data columns (total 14 columns):\n",
      "user_name                    3317 non-null int64\n",
      "user_statuses_count          3317 non-null int64\n",
      "user_followers_count         3317 non-null int64\n",
      "user_friends_count           3317 non-null int64\n",
      "user_verified                3317 non-null bool\n",
      "user_location                2397 non-null object\n",
      "user_lang                    3317 non-null object\n",
      "user_created_at_timestamp    3317 non-null float64\n",
      "user_protected               3317 non-null bool\n",
      "user_description             2651 non-null object\n",
      "user_gender                  1489 non-null object\n",
      "user_country                 2278 non-null object\n",
      "user_state                   1701 non-null object\n",
      "user_city                    1539 non-null object\n",
      "dtypes: bool(2), float64(1), int64(4), object(7)\n",
      "memory usage: 343.4+ KB\n"
     ]
    }
   ],
   "source": [
    "# read user_profiles_en_anony.csv\n",
    "import pandas as pd\n",
    "df = pd.read_csv('../data/user_profiles_en_anony.csv')\n",
    "df = df.drop_duplicates()\n",
    "df = df.drop(['user_utc_offset', 'user_time_zone'], axis = 1)\n",
    "df.info()"
   ]
  },
  {
   "cell_type": "code",
   "execution_count": 13,
   "metadata": {
    "ExecuteTime": {
     "end_time": "2019-01-12T03:41:22.500516Z",
     "start_time": "2019-01-12T03:41:22.493669Z"
    }
   },
   "outputs": [],
   "source": [
    "# specify numerical features\n",
    "numeric_features = df._get_numeric_data().columns.values.tolist()\n",
    "numeric_features.remove('user_created_at_timestamp')\n",
    "df_refined = df[numeric_features].dropna()"
   ]
  },
  {
   "cell_type": "code",
   "execution_count": 14,
   "metadata": {
    "ExecuteTime": {
     "end_time": "2019-01-12T03:41:22.940132Z",
     "start_time": "2019-01-12T03:41:22.923599Z"
    }
   },
   "outputs": [],
   "source": [
    "# adding timing features\n",
    "import datetime\n",
    "df['user_register_year'] = df['user_created_at_timestamp'].apply(lambda x: datetime.datetime.fromtimestamp(x).year)\n",
    "df['user_register_day'] = df['user_created_at_timestamp'].apply(lambda x: datetime.datetime.fromtimestamp(x).weekday())\n",
    "df['user_register_hour'] = df['user_created_at_timestamp'].apply(lambda x: datetime.datetime.fromtimestamp(x).hour)"
   ]
  },
  {
   "cell_type": "code",
   "execution_count": 15,
   "metadata": {
    "ExecuteTime": {
     "end_time": "2019-01-12T03:41:23.387439Z",
     "start_time": "2019-01-12T03:41:23.340638Z"
    }
   },
   "outputs": [
    {
     "data": {
      "text/html": [
       "<div>\n",
       "<style scoped>\n",
       "    .dataframe tbody tr th:only-of-type {\n",
       "        vertical-align: middle;\n",
       "    }\n",
       "\n",
       "    .dataframe tbody tr th {\n",
       "        vertical-align: top;\n",
       "    }\n",
       "\n",
       "    .dataframe thead th {\n",
       "        text-align: right;\n",
       "    }\n",
       "</style>\n",
       "<table border=\"1\" class=\"dataframe\">\n",
       "  <thead>\n",
       "    <tr style=\"text-align: right;\">\n",
       "      <th></th>\n",
       "      <th>user_name</th>\n",
       "      <th>user_statuses_count</th>\n",
       "      <th>user_followers_count</th>\n",
       "      <th>user_friends_count</th>\n",
       "      <th>user_verified</th>\n",
       "      <th>user_protected</th>\n",
       "      <th>user_gender_F</th>\n",
       "      <th>user_gender_M</th>\n",
       "      <th>user_lang_ar</th>\n",
       "      <th>user_lang_bn</th>\n",
       "      <th>...</th>\n",
       "      <th>user_register_hour_14</th>\n",
       "      <th>user_register_hour_15</th>\n",
       "      <th>user_register_hour_16</th>\n",
       "      <th>user_register_hour_17</th>\n",
       "      <th>user_register_hour_18</th>\n",
       "      <th>user_register_hour_19</th>\n",
       "      <th>user_register_hour_20</th>\n",
       "      <th>user_register_hour_21</th>\n",
       "      <th>user_register_hour_22</th>\n",
       "      <th>user_register_hour_23</th>\n",
       "    </tr>\n",
       "  </thead>\n",
       "  <tbody>\n",
       "    <tr>\n",
       "      <th>0</th>\n",
       "      <td>1385</td>\n",
       "      <td>2037</td>\n",
       "      <td>126</td>\n",
       "      <td>130</td>\n",
       "      <td>False</td>\n",
       "      <td>False</td>\n",
       "      <td>0</td>\n",
       "      <td>1</td>\n",
       "      <td>0</td>\n",
       "      <td>0</td>\n",
       "      <td>...</td>\n",
       "      <td>0</td>\n",
       "      <td>0</td>\n",
       "      <td>1</td>\n",
       "      <td>0</td>\n",
       "      <td>0</td>\n",
       "      <td>0</td>\n",
       "      <td>0</td>\n",
       "      <td>0</td>\n",
       "      <td>0</td>\n",
       "      <td>0</td>\n",
       "    </tr>\n",
       "    <tr>\n",
       "      <th>1</th>\n",
       "      <td>1386</td>\n",
       "      <td>59032</td>\n",
       "      <td>1768</td>\n",
       "      <td>2235</td>\n",
       "      <td>False</td>\n",
       "      <td>False</td>\n",
       "      <td>0</td>\n",
       "      <td>1</td>\n",
       "      <td>0</td>\n",
       "      <td>0</td>\n",
       "      <td>...</td>\n",
       "      <td>0</td>\n",
       "      <td>0</td>\n",
       "      <td>0</td>\n",
       "      <td>0</td>\n",
       "      <td>0</td>\n",
       "      <td>0</td>\n",
       "      <td>0</td>\n",
       "      <td>0</td>\n",
       "      <td>0</td>\n",
       "      <td>0</td>\n",
       "    </tr>\n",
       "    <tr>\n",
       "      <th>2</th>\n",
       "      <td>1386</td>\n",
       "      <td>59032</td>\n",
       "      <td>1768</td>\n",
       "      <td>2235</td>\n",
       "      <td>False</td>\n",
       "      <td>False</td>\n",
       "      <td>0</td>\n",
       "      <td>1</td>\n",
       "      <td>0</td>\n",
       "      <td>0</td>\n",
       "      <td>...</td>\n",
       "      <td>0</td>\n",
       "      <td>0</td>\n",
       "      <td>0</td>\n",
       "      <td>0</td>\n",
       "      <td>0</td>\n",
       "      <td>0</td>\n",
       "      <td>0</td>\n",
       "      <td>0</td>\n",
       "      <td>0</td>\n",
       "      <td>0</td>\n",
       "    </tr>\n",
       "    <tr>\n",
       "      <th>3</th>\n",
       "      <td>1387</td>\n",
       "      <td>915</td>\n",
       "      <td>53</td>\n",
       "      <td>54</td>\n",
       "      <td>False</td>\n",
       "      <td>False</td>\n",
       "      <td>0</td>\n",
       "      <td>0</td>\n",
       "      <td>0</td>\n",
       "      <td>0</td>\n",
       "      <td>...</td>\n",
       "      <td>0</td>\n",
       "      <td>0</td>\n",
       "      <td>0</td>\n",
       "      <td>0</td>\n",
       "      <td>0</td>\n",
       "      <td>0</td>\n",
       "      <td>0</td>\n",
       "      <td>0</td>\n",
       "      <td>0</td>\n",
       "      <td>0</td>\n",
       "    </tr>\n",
       "    <tr>\n",
       "      <th>4</th>\n",
       "      <td>1388</td>\n",
       "      <td>270</td>\n",
       "      <td>14</td>\n",
       "      <td>57</td>\n",
       "      <td>False</td>\n",
       "      <td>False</td>\n",
       "      <td>0</td>\n",
       "      <td>0</td>\n",
       "      <td>0</td>\n",
       "      <td>0</td>\n",
       "      <td>...</td>\n",
       "      <td>0</td>\n",
       "      <td>0</td>\n",
       "      <td>0</td>\n",
       "      <td>0</td>\n",
       "      <td>0</td>\n",
       "      <td>0</td>\n",
       "      <td>0</td>\n",
       "      <td>0</td>\n",
       "      <td>0</td>\n",
       "      <td>0</td>\n",
       "    </tr>\n",
       "  </tbody>\n",
       "</table>\n",
       "<p>5 rows × 698 columns</p>\n",
       "</div>"
      ],
      "text/plain": [
       "   user_name  user_statuses_count  user_followers_count  user_friends_count  \\\n",
       "0       1385                 2037                   126                 130   \n",
       "1       1386                59032                  1768                2235   \n",
       "2       1386                59032                  1768                2235   \n",
       "3       1387                  915                    53                  54   \n",
       "4       1388                  270                    14                  57   \n",
       "\n",
       "   user_verified  user_protected  user_gender_F  user_gender_M  user_lang_ar  \\\n",
       "0          False           False              0              1             0   \n",
       "1          False           False              0              1             0   \n",
       "2          False           False              0              1             0   \n",
       "3          False           False              0              0             0   \n",
       "4          False           False              0              0             0   \n",
       "\n",
       "   user_lang_bn          ...            user_register_hour_14  \\\n",
       "0             0          ...                                0   \n",
       "1             0          ...                                0   \n",
       "2             0          ...                                0   \n",
       "3             0          ...                                0   \n",
       "4             0          ...                                0   \n",
       "\n",
       "   user_register_hour_15  user_register_hour_16  user_register_hour_17  \\\n",
       "0                      0                      1                      0   \n",
       "1                      0                      0                      0   \n",
       "2                      0                      0                      0   \n",
       "3                      0                      0                      0   \n",
       "4                      0                      0                      0   \n",
       "\n",
       "   user_register_hour_18  user_register_hour_19  user_register_hour_20  \\\n",
       "0                      0                      0                      0   \n",
       "1                      0                      0                      0   \n",
       "2                      0                      0                      0   \n",
       "3                      0                      0                      0   \n",
       "4                      0                      0                      0   \n",
       "\n",
       "   user_register_hour_21  user_register_hour_22  user_register_hour_23  \n",
       "0                      0                      0                      0  \n",
       "1                      0                      0                      0  \n",
       "2                      0                      0                      0  \n",
       "3                      0                      0                      0  \n",
       "4                      0                      0                      0  \n",
       "\n",
       "[5 rows x 698 columns]"
      ]
     },
     "execution_count": 15,
     "metadata": {},
     "output_type": "execute_result"
    }
   ],
   "source": [
    "# specify categorical features\n",
    "categorical_features = ['user_gender',\n",
    "                     'user_lang', \\\n",
    "                     'user_country', \\\n",
    "                     'user_state', \\\n",
    "                     'user_city', \\\n",
    "                     'user_register_year', \\\n",
    "                     'user_register_day', \\\n",
    "                     'user_register_hour']\n",
    "\n",
    "for feature in categorical_features:\n",
    "    df_refined = pd.concat([df_refined, pd.get_dummies(df[feature], prefix = feature)], axis=1) \n",
    "    \n",
    "# df_refined = df_refined.drop(categorical_features, axis = 1)\n",
    "df_refined.head()"
   ]
  },
  {
   "cell_type": "code",
   "execution_count": null,
   "metadata": {},
   "outputs": [],
   "source": []
  },
  {
   "cell_type": "markdown",
   "metadata": {},
   "source": [
    "# Clustering\n",
    "\n",
    "## Feature Enigeering\n",
    "\n",
    "    a. Factor Analysis\n",
    "    b. Principle Component Analysis"
   ]
  },
  {
   "cell_type": "code",
   "execution_count": 9,
   "metadata": {},
   "outputs": [
    {
     "data": {
      "text/html": [
       "<div>\n",
       "<style scoped>\n",
       "    .dataframe tbody tr th:only-of-type {\n",
       "        vertical-align: middle;\n",
       "    }\n",
       "\n",
       "    .dataframe tbody tr th {\n",
       "        vertical-align: top;\n",
       "    }\n",
       "\n",
       "    .dataframe thead th {\n",
       "        text-align: right;\n",
       "    }\n",
       "</style>\n",
       "<table border=\"1\" class=\"dataframe\">\n",
       "  <thead>\n",
       "    <tr style=\"text-align: right;\">\n",
       "      <th></th>\n",
       "      <th>user_name</th>\n",
       "      <th>user_statuses_count</th>\n",
       "      <th>user_followers_count</th>\n",
       "      <th>user_friends_count</th>\n",
       "      <th>user_verified</th>\n",
       "      <th>user_protected</th>\n",
       "      <th>user_gender_F</th>\n",
       "      <th>user_gender_M</th>\n",
       "      <th>user_lang_ar</th>\n",
       "      <th>user_lang_de</th>\n",
       "      <th>...</th>\n",
       "      <th>user_register_hour_14</th>\n",
       "      <th>user_register_hour_15</th>\n",
       "      <th>user_register_hour_16</th>\n",
       "      <th>user_register_hour_17</th>\n",
       "      <th>user_register_hour_18</th>\n",
       "      <th>user_register_hour_19</th>\n",
       "      <th>user_register_hour_20</th>\n",
       "      <th>user_register_hour_21</th>\n",
       "      <th>user_register_hour_22</th>\n",
       "      <th>user_register_hour_23</th>\n",
       "    </tr>\n",
       "  </thead>\n",
       "  <tbody>\n",
       "    <tr>\n",
       "      <th>0</th>\n",
       "      <td>0</td>\n",
       "      <td>10094</td>\n",
       "      <td>306</td>\n",
       "      <td>807</td>\n",
       "      <td>False</td>\n",
       "      <td>False</td>\n",
       "      <td>0</td>\n",
       "      <td>1</td>\n",
       "      <td>0</td>\n",
       "      <td>0</td>\n",
       "      <td>...</td>\n",
       "      <td>0</td>\n",
       "      <td>0</td>\n",
       "      <td>0</td>\n",
       "      <td>0</td>\n",
       "      <td>0</td>\n",
       "      <td>0</td>\n",
       "      <td>0</td>\n",
       "      <td>0</td>\n",
       "      <td>0</td>\n",
       "      <td>0</td>\n",
       "    </tr>\n",
       "    <tr>\n",
       "      <th>1</th>\n",
       "      <td>1</td>\n",
       "      <td>17</td>\n",
       "      <td>4</td>\n",
       "      <td>77</td>\n",
       "      <td>False</td>\n",
       "      <td>False</td>\n",
       "      <td>0</td>\n",
       "      <td>0</td>\n",
       "      <td>0</td>\n",
       "      <td>0</td>\n",
       "      <td>...</td>\n",
       "      <td>0</td>\n",
       "      <td>0</td>\n",
       "      <td>0</td>\n",
       "      <td>0</td>\n",
       "      <td>0</td>\n",
       "      <td>0</td>\n",
       "      <td>0</td>\n",
       "      <td>0</td>\n",
       "      <td>0</td>\n",
       "      <td>0</td>\n",
       "    </tr>\n",
       "    <tr>\n",
       "      <th>2</th>\n",
       "      <td>2</td>\n",
       "      <td>5201</td>\n",
       "      <td>780</td>\n",
       "      <td>511</td>\n",
       "      <td>False</td>\n",
       "      <td>False</td>\n",
       "      <td>0</td>\n",
       "      <td>0</td>\n",
       "      <td>0</td>\n",
       "      <td>0</td>\n",
       "      <td>...</td>\n",
       "      <td>0</td>\n",
       "      <td>0</td>\n",
       "      <td>0</td>\n",
       "      <td>0</td>\n",
       "      <td>0</td>\n",
       "      <td>0</td>\n",
       "      <td>1</td>\n",
       "      <td>0</td>\n",
       "      <td>0</td>\n",
       "      <td>0</td>\n",
       "    </tr>\n",
       "    <tr>\n",
       "      <th>3</th>\n",
       "      <td>3</td>\n",
       "      <td>15562</td>\n",
       "      <td>139</td>\n",
       "      <td>270</td>\n",
       "      <td>False</td>\n",
       "      <td>False</td>\n",
       "      <td>0</td>\n",
       "      <td>0</td>\n",
       "      <td>0</td>\n",
       "      <td>0</td>\n",
       "      <td>...</td>\n",
       "      <td>0</td>\n",
       "      <td>0</td>\n",
       "      <td>0</td>\n",
       "      <td>0</td>\n",
       "      <td>0</td>\n",
       "      <td>0</td>\n",
       "      <td>0</td>\n",
       "      <td>0</td>\n",
       "      <td>0</td>\n",
       "      <td>0</td>\n",
       "    </tr>\n",
       "    <tr>\n",
       "      <th>4</th>\n",
       "      <td>4</td>\n",
       "      <td>1122</td>\n",
       "      <td>2219</td>\n",
       "      <td>37</td>\n",
       "      <td>False</td>\n",
       "      <td>False</td>\n",
       "      <td>0</td>\n",
       "      <td>0</td>\n",
       "      <td>0</td>\n",
       "      <td>0</td>\n",
       "      <td>...</td>\n",
       "      <td>0</td>\n",
       "      <td>0</td>\n",
       "      <td>0</td>\n",
       "      <td>0</td>\n",
       "      <td>0</td>\n",
       "      <td>0</td>\n",
       "      <td>0</td>\n",
       "      <td>0</td>\n",
       "      <td>0</td>\n",
       "      <td>0</td>\n",
       "    </tr>\n",
       "  </tbody>\n",
       "</table>\n",
       "<p>5 rows × 219 columns</p>\n",
       "</div>"
      ],
      "text/plain": [
       "   user_name  user_statuses_count  user_followers_count  user_friends_count  \\\n",
       "0          0                10094                   306                 807   \n",
       "1          1                   17                     4                  77   \n",
       "2          2                 5201                   780                 511   \n",
       "3          3                15562                   139                 270   \n",
       "4          4                 1122                  2219                  37   \n",
       "\n",
       "   user_verified  user_protected  user_gender_F  user_gender_M  user_lang_ar  \\\n",
       "0          False           False              0              1             0   \n",
       "1          False           False              0              0             0   \n",
       "2          False           False              0              0             0   \n",
       "3          False           False              0              0             0   \n",
       "4          False           False              0              0             0   \n",
       "\n",
       "   user_lang_de          ...            user_register_hour_14  \\\n",
       "0             0          ...                                0   \n",
       "1             0          ...                                0   \n",
       "2             0          ...                                0   \n",
       "3             0          ...                                0   \n",
       "4             0          ...                                0   \n",
       "\n",
       "   user_register_hour_15  user_register_hour_16  user_register_hour_17  \\\n",
       "0                      0                      0                      0   \n",
       "1                      0                      0                      0   \n",
       "2                      0                      0                      0   \n",
       "3                      0                      0                      0   \n",
       "4                      0                      0                      0   \n",
       "\n",
       "   user_register_hour_18  user_register_hour_19  user_register_hour_20  \\\n",
       "0                      0                      0                      0   \n",
       "1                      0                      0                      0   \n",
       "2                      0                      0                      1   \n",
       "3                      0                      0                      0   \n",
       "4                      0                      0                      0   \n",
       "\n",
       "   user_register_hour_21  user_register_hour_22  user_register_hour_23  \n",
       "0                      0                      0                      0  \n",
       "1                      0                      0                      0  \n",
       "2                      0                      0                      0  \n",
       "3                      0                      0                      0  \n",
       "4                      0                      0                      0  \n",
       "\n",
       "[5 rows x 219 columns]"
      ]
     },
     "execution_count": 9,
     "metadata": {},
     "output_type": "execute_result"
    }
   ],
   "source": [
    "df_refined.head()"
   ]
  },
  {
   "cell_type": "code",
   "execution_count": 8,
   "metadata": {
    "ExecuteTime": {
     "end_time": "2019-01-12T03:41:24.620539Z",
     "start_time": "2019-01-12T03:41:24.198037Z"
    },
    "scrolled": true
   },
   "outputs": [
    {
     "data": {
      "text/html": [
       "<div>\n",
       "<style scoped>\n",
       "    .dataframe tbody tr th:only-of-type {\n",
       "        vertical-align: middle;\n",
       "    }\n",
       "\n",
       "    .dataframe tbody tr th {\n",
       "        vertical-align: top;\n",
       "    }\n",
       "\n",
       "    .dataframe thead th {\n",
       "        text-align: right;\n",
       "    }\n",
       "</style>\n",
       "<table border=\"1\" class=\"dataframe\">\n",
       "  <thead>\n",
       "    <tr style=\"text-align: right;\">\n",
       "      <th></th>\n",
       "      <th>factor 1</th>\n",
       "      <th>factor 2</th>\n",
       "    </tr>\n",
       "  </thead>\n",
       "  <tbody>\n",
       "    <tr>\n",
       "      <th>0</th>\n",
       "      <td>-0.204237</td>\n",
       "      <td>-0.237999</td>\n",
       "    </tr>\n",
       "    <tr>\n",
       "      <th>1</th>\n",
       "      <td>-0.207277</td>\n",
       "      <td>-0.300284</td>\n",
       "    </tr>\n",
       "    <tr>\n",
       "      <th>2</th>\n",
       "      <td>-0.199729</td>\n",
       "      <td>-0.269168</td>\n",
       "    </tr>\n",
       "    <tr>\n",
       "      <th>3</th>\n",
       "      <td>-0.205777</td>\n",
       "      <td>-0.203709</td>\n",
       "    </tr>\n",
       "    <tr>\n",
       "      <th>4</th>\n",
       "      <td>-0.185908</td>\n",
       "      <td>-0.296708</td>\n",
       "    </tr>\n",
       "    <tr>\n",
       "      <th>5</th>\n",
       "      <td>-0.205908</td>\n",
       "      <td>-0.272235</td>\n",
       "    </tr>\n",
       "    <tr>\n",
       "      <th>6</th>\n",
       "      <td>-0.192692</td>\n",
       "      <td>1.063389</td>\n",
       "    </tr>\n",
       "    <tr>\n",
       "      <th>7</th>\n",
       "      <td>0.231585</td>\n",
       "      <td>-0.228387</td>\n",
       "    </tr>\n",
       "    <tr>\n",
       "      <th>8</th>\n",
       "      <td>-0.207266</td>\n",
       "      <td>-0.299813</td>\n",
       "    </tr>\n",
       "    <tr>\n",
       "      <th>9</th>\n",
       "      <td>-0.059142</td>\n",
       "      <td>2.283803</td>\n",
       "    </tr>\n",
       "  </tbody>\n",
       "</table>\n",
       "</div>"
      ],
      "text/plain": [
       "   factor 1  factor 2\n",
       "0 -0.204237 -0.237999\n",
       "1 -0.207277 -0.300284\n",
       "2 -0.199729 -0.269168\n",
       "3 -0.205777 -0.203709\n",
       "4 -0.185908 -0.296708\n",
       "5 -0.205908 -0.272235\n",
       "6 -0.192692  1.063389\n",
       "7  0.231585 -0.228387\n",
       "8 -0.207266 -0.299813\n",
       "9 -0.059142  2.283803"
      ]
     },
     "execution_count": 8,
     "metadata": {},
     "output_type": "execute_result"
    }
   ],
   "source": [
    "from sklearn.decomposition import FactorAnalysis\n",
    "fa = FactorAnalysis(n_components = 2)\n",
    "factors = fa.fit_transform(df_refined)\n",
    "factordf = pd.DataFrame(data = factors, columns = ['factor 1', 'factor 2'])\n",
    "factordf.head(10)"
   ]
  },
  {
   "cell_type": "code",
   "execution_count": 6,
   "metadata": {
    "ExecuteTime": {
     "end_time": "2019-01-12T03:41:24.904732Z",
     "start_time": "2019-01-12T03:41:24.649073Z"
    },
    "scrolled": true
   },
   "outputs": [
    {
     "data": {
      "text/html": [
       "<div>\n",
       "<style scoped>\n",
       "    .dataframe tbody tr th:only-of-type {\n",
       "        vertical-align: middle;\n",
       "    }\n",
       "\n",
       "    .dataframe tbody tr th {\n",
       "        vertical-align: top;\n",
       "    }\n",
       "\n",
       "    .dataframe thead th {\n",
       "        text-align: right;\n",
       "    }\n",
       "</style>\n",
       "<table border=\"1\" class=\"dataframe\">\n",
       "  <thead>\n",
       "    <tr style=\"text-align: right;\">\n",
       "      <th></th>\n",
       "      <th>principal component 1</th>\n",
       "      <th>principal component 2</th>\n",
       "    </tr>\n",
       "  </thead>\n",
       "  <tbody>\n",
       "    <tr>\n",
       "      <th>0</th>\n",
       "      <td>-46054.596887</td>\n",
       "      <td>-14105.796146</td>\n",
       "    </tr>\n",
       "    <tr>\n",
       "      <th>1</th>\n",
       "      <td>-56070.361996</td>\n",
       "      <td>-12826.344434</td>\n",
       "    </tr>\n",
       "    <tr>\n",
       "      <th>2</th>\n",
       "      <td>-50819.402121</td>\n",
       "      <td>-12871.879619</td>\n",
       "    </tr>\n",
       "    <tr>\n",
       "      <th>3</th>\n",
       "      <td>-40695.381744</td>\n",
       "      <td>-15121.264575</td>\n",
       "    </tr>\n",
       "    <tr>\n",
       "      <th>4</th>\n",
       "      <td>-54634.256230</td>\n",
       "      <td>-10810.840523</td>\n",
       "    </tr>\n",
       "    <tr>\n",
       "      <th>5</th>\n",
       "      <td>-51543.157198</td>\n",
       "      <td>-13406.465387</td>\n",
       "    </tr>\n",
       "    <tr>\n",
       "      <th>6</th>\n",
       "      <td>160688.627524</td>\n",
       "      <td>-45863.714756</td>\n",
       "    </tr>\n",
       "    <tr>\n",
       "      <th>7</th>\n",
       "      <td>-26786.659431</td>\n",
       "      <td>28598.174829</td>\n",
       "    </tr>\n",
       "    <tr>\n",
       "      <th>8</th>\n",
       "      <td>-55994.910694</td>\n",
       "      <td>-12837.288710</td>\n",
       "    </tr>\n",
       "    <tr>\n",
       "      <th>9</th>\n",
       "      <td>359634.512031</td>\n",
       "      <td>-63568.615199</td>\n",
       "    </tr>\n",
       "  </tbody>\n",
       "</table>\n",
       "</div>"
      ],
      "text/plain": [
       "   principal component 1  principal component 2\n",
       "0          -46054.596887          -14105.796146\n",
       "1          -56070.361996          -12826.344434\n",
       "2          -50819.402121          -12871.879619\n",
       "3          -40695.381744          -15121.264575\n",
       "4          -54634.256230          -10810.840523\n",
       "5          -51543.157198          -13406.465387\n",
       "6          160688.627524          -45863.714756\n",
       "7          -26786.659431           28598.174829\n",
       "8          -55994.910694          -12837.288710\n",
       "9          359634.512031          -63568.615199"
      ]
     },
     "execution_count": 6,
     "metadata": {},
     "output_type": "execute_result"
    }
   ],
   "source": [
    "from sklearn.decomposition import PCA\n",
    "pca = PCA(n_components = 2)\n",
    "principalComponents = pca.fit_transform(df_refined)\n",
    "principaldf = pd.DataFrame(data = principalComponents, columns = ['principal component 1', 'principal component 2'])\n",
    "principaldf.head(10)"
   ]
  },
  {
   "cell_type": "markdown",
   "metadata": {},
   "source": [
    "## K-means Clustering (Centroid-based)\n",
    "    a. Assignment step: Assign each observation to the cluster whose mean has the least distance.\n",
    "    b. Update step: Calculate the new means to be the centroids of the observations in the new clusters.\n",
    "    c. The algorithm will converge when the assignments no longer change."
   ]
  },
  {
   "cell_type": "code",
   "execution_count": 10,
   "metadata": {
    "ExecuteTime": {
     "end_time": "2019-01-12T03:41:26.873083Z",
     "start_time": "2019-01-12T03:41:26.590675Z"
    }
   },
   "outputs": [
    {
     "data": {
      "text/plain": [
       "<matplotlib.collections.PathCollection at 0x1add7f37d68>"
      ]
     },
     "execution_count": 10,
     "metadata": {},
     "output_type": "execute_result"
    },
    {
     "data": {
      "image/png": "[encoded data removed]",
      "text/plain": [
       "<Figure size 432x288 with 1 Axes>"
      ]
     },
     "metadata": {
      "needs_background": "light"
     },
     "output_type": "display_data"
    }
   ],
   "source": [
    "from sklearn.preprocessing import StandardScaler\n",
    "X = StandardScaler().fit_transform(factordf)\n",
    "\n",
    "from sklearn.cluster import KMeans\n",
    "kmeans = KMeans(n_clusters = 3, random_state = 0).fit(X)\n",
    "\n",
    "y_kmeans = kmeans.predict(X)\n",
    "principalarray = X\n",
    "plt.scatter(principalarray[:, 0], principalarray[:, 1], c = y_kmeans, s=20, cmap='viridis')\n",
    "\n",
    "centers = kmeans.cluster_centers_\n",
    "plt.scatter(centers[:, 0], centers[:, 1], c='black', s=20, alpha=0.5)"
   ]
  },
  {
   "cell_type": "code",
   "execution_count": 34,
   "metadata": {
    "ExecuteTime": {
     "end_time": "2019-01-12T03:41:28.173368Z",
     "start_time": "2019-01-12T03:41:27.886452Z"
    }
   },
   "outputs": [
    {
     "data": {
      "text/plain": [
       "<matplotlib.collections.PathCollection at 0x1add78209e8>"
      ]
     },
     "execution_count": 34,
     "metadata": {},
     "output_type": "execute_result"
    },
    {
     "data": {
      "image/png": "[encoded data removed]",
      "text/plain": [
       "<Figure size 432x288 with 1 Axes>"
      ]
     },
     "metadata": {
      "needs_background": "light"
     },
     "output_type": "display_data"
    }
   ],
   "source": [
    "from sklearn.preprocessing import StandardScaler\n",
    "X = StandardScaler().fit_transform(principaldf)\n",
    "\n",
    "from sklearn.cluster import KMeans\n",
    "kmeans = KMeans(n_clusters = 3, random_state = 0).fit(X)\n",
    "\n",
    "y_kmeans = kmeans.predict(X)\n",
    "principalarray = X\n",
    "plt.scatter(principalarray[:, 0], principalarray[:, 1], c = y_kmeans, s=20, cmap='viridis')\n",
    "\n",
    "centers = kmeans.cluster_centers_\n",
    "plt.scatter(centers[:, 0], centers[:, 1], c='black', s=20, alpha=0.5)"
   ]
  },
  {
   "cell_type": "markdown",
   "metadata": {},
   "source": [
    "## Hierarchical Clustering (Connectivity-based)\n",
    "    \n",
    "Parameters:\n",
    "\n",
    "    a. Two types of strategies\n",
    "        Agglomerative: bottom-up\n",
    "        Divisive: top-down\n",
    "    b. Distance metrics\n",
    "        Euclidean/Manhattan/Maximum etc.\n",
    "    c. Linkage criteria\n",
    "        Centroid/Mean/Maximum etc."
   ]
  },
  {
   "cell_type": "code",
   "execution_count": 40,
   "metadata": {
    "ExecuteTime": {
     "end_time": "2019-01-12T03:41:43.003730Z",
     "start_time": "2019-01-12T03:41:42.581091Z"
    }
   },
   "outputs": [
    {
     "name": "stderr",
     "output_type": "stream",
     "text": [
      "C:\\Users\\oml\\Anaconda3\\lib\\site-packages\\sklearn\\preprocessing\\data.py:625: DataConversionWarning: Data with input dtype bool, uint8, int64 were all converted to float64 by StandardScaler.\n",
      "  return self.partial_fit(X, y)\n",
      "C:\\Users\\oml\\Anaconda3\\lib\\site-packages\\sklearn\\base.py:462: DataConversionWarning: Data with input dtype bool, uint8, int64 were all converted to float64 by StandardScaler.\n",
      "  return self.fit(X, **fit_params).transform(X)\n"
     ]
    }
   ],
   "source": [
    "from sklearn.preprocessing import StandardScaler\n",
    "X = StandardScaler().fit_transform(df_refined)"
   ]
  },
  {
   "cell_type": "code",
   "execution_count": 41,
   "metadata": {},
   "outputs": [
    {
     "data": {
      "text/plain": [
       "array([[-1.6471307 , -0.26642356, -0.20374933, ..., -0.17090823,\n",
       "        -0.11997742, -0.17851913],\n",
       "       [-1.64467449, -0.32844118, -0.20666181, ..., -0.17090823,\n",
       "        -0.11997742, -0.17851913],\n",
       "       [-1.64221828, -0.29653691, -0.19917809, ..., -0.17090823,\n",
       "        -0.11997742, -0.17851913],\n",
       "       ...,\n",
       "       [ 1.74735144,  0.70573972, -0.20650751, ..., -0.17090823,\n",
       "        -0.11997742, -0.17851913],\n",
       "       [ 1.74980765, -0.05924889, -0.15607921, ..., -0.17090823,\n",
       "        -0.11997742, -0.17851913],\n",
       "       [ 1.75226386, -0.32224988, -0.20603496, ..., -0.17090823,\n",
       "        -0.11997742, -0.17851913]])"
      ]
     },
     "execution_count": 41,
     "metadata": {},
     "output_type": "execute_result"
    }
   ],
   "source": [
    "X"
   ]
  },
  {
   "cell_type": "code",
   "execution_count": 43,
   "metadata": {
    "ExecuteTime": {
     "end_time": "2019-01-12T03:42:53.456519Z",
     "start_time": "2019-01-12T03:42:49.606156Z"
    }
   },
   "outputs": [],
   "source": [
    "import scipy.cluster.hierarchy as sch\n",
    "\n",
    "d = sch.distance.pdist(X, metric='cosine') # vector of (100 choose 2) pairwise distances\n",
    "\n",
    "# metric : str or function, optional\n",
    "# The distance metric to use. The distance function can\n",
    "# be 'braycurtis', 'canberra', 'chebyshev', 'cityblock',\n",
    "# 'correlation', 'cosine', 'dice', 'euclidean', 'hamming',\n",
    "# 'jaccard', 'kulsinski', 'mahalanobis', 'matching',\n",
    "# 'minkowski', 'rogerstanimoto', 'russellrao', 'seuclidean',\n",
    "# 'sokalmichener', 'sokalsneath', 'sqeuclidean', 'yule'.\n",
    "\n",
    "L = sch.linkage(d, method='complete') # d is a distance matrix\n",
    "\n",
    "# 'single', 'complete', 'average', 'weighted', 'centroid', 'median', 'ward'"
   ]
  },
  {
   "cell_type": "code",
   "execution_count": null,
   "metadata": {},
   "outputs": [],
   "source": [
    "help(sch.linkage)"
   ]
  },
  {
   "cell_type": "code",
   "execution_count": 44,
   "metadata": {
    "ExecuteTime": {
     "end_time": "2019-01-12T03:43:23.030882Z",
     "start_time": "2019-01-12T03:42:53.458749Z"
    }
   },
   "outputs": [
    {
     "data": {
      "image/png": "[encoded data removed]",
      "text/plain": [
       "<Figure size 7200x1440 with 1 Axes>"
      ]
     },
     "metadata": {
      "needs_background": "light"
     },
     "output_type": "display_data"
    }
   ],
   "source": [
    "def llf(llid):\n",
    "    return df.index[llid]\n",
    "\n",
    "# plot dendrogram\n",
    "\n",
    "fig = plt.figure(figsize=(100,20))\n",
    "cutoff = 0.5 * max(L[:,2])\n",
    "\n",
    "Z = sch.dendrogram(L, orientation = 'top', color_threshold = cutoff, leaf_font_size = 6, leaf_label_func = llf)\n",
    "\n",
    "plt.savefig('./hierarchical_clustering.png', dpi = 200)"
   ]
  },
  {
   "cell_type": "markdown",
   "metadata": {},
   "source": [
    "# Exercise 2\n",
    "\n",
    "    a. reduce the number of features to two\n",
    "        i. factor analysis\n",
    "        ii. priciple component analysis\n",
    "    b. use standardscaler to standardize the numerical features\n",
    "    c. do clustering on the two-column numerical features\n",
    "        i. k-means clustering\n",
    "        ii. hierarchical clustering"
   ]
  },
  {
   "cell_type": "code",
   "execution_count": null,
   "metadata": {},
   "outputs": [],
   "source": [
    "pd.read_csv('../data/user_profiles_en_anony.csv')"
   ]
  },
  {
   "cell_type": "code",
   "execution_count": null,
   "metadata": {},
   "outputs": [],
   "source": []
  },
  {
   "cell_type": "code",
   "execution_count": null,
   "metadata": {},
   "outputs": [],
   "source": []
  },
  {
   "cell_type": "markdown",
   "metadata": {},
   "source": [
    "# Classification\n",
    "\n",
    "## Predicting User Gender"
   ]
  },
  {
   "cell_type": "code",
   "execution_count": 49,
   "metadata": {},
   "outputs": [],
   "source": [
    "gender_features = [c for c in df_refined.columns if 'user_gender_' in c]\n",
    "df_classification = pd.concat([df_refined.drop(gender_features, axis = 1), \\\n",
    "                               df['user_gender']], axis = 1).dropna()\n",
    "X = df_classification.drop('user_gender', axis = 1)\n",
    "y = df_classification['user_gender']"
   ]
  },
  {
   "cell_type": "code",
   "execution_count": 52,
   "metadata": {},
   "outputs": [
    {
     "name": "stdout",
     "output_type": "stream",
     "text": [
      "227 57 227 57\n"
     ]
    }
   ],
   "source": [
    "X = df_classification.drop('user_gender', axis = 1)\n",
    "y = df_classification['user_gender']\n",
    "\n",
    "# split training sets and testing sets\n",
    "from sklearn.model_selection import train_test_split\n",
    "X_train, X_test, y_train, y_test = train_test_split(X, y, test_size=0.2, random_state=42)\n",
    "\n",
    "print(len(X_train), len(X_test), len(y_train), len(y_test))"
   ]
  },
  {
   "cell_type": "code",
   "execution_count": 55,
   "metadata": {
    "ExecuteTime": {
     "end_time": "2019-01-12T03:43:57.054812Z",
     "start_time": "2019-01-12T03:43:23.032703Z"
    }
   },
   "outputs": [
    {
     "name": "stderr",
     "output_type": "stream",
     "text": [
      "C:\\Users\\oml\\Anaconda3\\lib\\site-packages\\sklearn\\model_selection\\_split.py:2053: FutureWarning: You should specify a value for 'cv' instead of relying on the default value. The default value will change from 3 to 5 in version 0.22.\n",
      "  warnings.warn(CV_WARNING, FutureWarning)\n"
     ]
    },
    {
     "name": "stdout",
     "output_type": "stream",
     "text": [
      "Index(['user_name', 'user_statuses_count', 'user_followers_count',\n",
      "       'user_friends_count', 'user_verified', 'user_protected', 'user_lang_ar',\n",
      "       'user_lang_de', 'user_lang_en', 'user_lang_en-gb',\n",
      "       ...\n",
      "       'user_register_hour_14', 'user_register_hour_15',\n",
      "       'user_register_hour_16', 'user_register_hour_17',\n",
      "       'user_register_hour_18', 'user_register_hour_19',\n",
      "       'user_register_hour_20', 'user_register_hour_21',\n",
      "       'user_register_hour_22', 'user_register_hour_23'],\n",
      "      dtype='object', length=217)\n",
      "0.6654929577464789\n",
      "{'max_depth': 8, 'n_estimators': 1200}\n",
      "RandomForestClassifier(bootstrap=True, class_weight=None, criterion='gini',\n",
      "            max_depth=8, max_features='sqrt', max_leaf_nodes=None,\n",
      "            min_impurity_decrease=0.0, min_impurity_split=None,\n",
      "            min_samples_leaf=1, min_samples_split=2,\n",
      "            min_weight_fraction_leaf=0.0, n_estimators=1200, n_jobs=None,\n",
      "            oob_score=False, random_state=None, verbose=0,\n",
      "            warm_start=False)\n"
     ]
    }
   ],
   "source": [
    "# choose a classifier\n",
    "from sklearn.ensemble import RandomForestClassifier\n",
    "RFC = RandomForestClassifier(max_features = \"sqrt\")\n",
    "\n",
    "from sklearn.model_selection import GridSearchCV\n",
    "parameters = {\"max_depth\":[5, 8, 25], \"n_estimators\":[500, 800, 1200]}\n",
    "clf = GridSearchCV(RFC, parameters)\n",
    "clf.fit(X, y)\n",
    "\n",
    "print(X.columns)\n",
    "print(clf.best_score_)\n",
    "print(clf.best_params_)\n",
    "print(clf.best_estimator_)"
   ]
  },
  {
   "cell_type": "code",
   "execution_count": null,
   "metadata": {},
   "outputs": [],
   "source": []
  },
  {
   "cell_type": "markdown",
   "metadata": {},
   "source": [
    "# Exercise 3\n",
    "\n",
    "    a. user random forests to\n",
    "        i. predict user gender\n",
    "        ii. predict user country\n",
    "        iii. predict user statuses count\n",
    "    *b. add user topics into features\n",
    "    *c. add user description into features"
   ]
  },
  {
   "cell_type": "markdown",
   "metadata": {},
   "source": [
    "## Predicting User Country"
   ]
  },
  {
   "cell_type": "code",
   "execution_count": 57,
   "metadata": {},
   "outputs": [
    {
     "data": {
      "text/plain": [
       "0.03125"
      ]
     },
     "execution_count": 57,
     "metadata": {},
     "output_type": "execute_result"
    }
   ],
   "source": [
    "1/ len(set(df['user_country']))"
   ]
  },
  {
   "cell_type": "code",
   "execution_count": 28,
   "metadata": {
    "ExecuteTime": {
     "end_time": "2019-01-12T03:45:11.582547Z",
     "start_time": "2019-01-12T03:43:57.056855Z"
    }
   },
   "outputs": [
    {
     "name": "stderr",
     "output_type": "stream",
     "text": [
      "/Users/zhicongchen/anaconda3/lib/python3.7/site-packages/sklearn/model_selection/_split.py:2053: FutureWarning: You should specify a value for 'cv' instead of relying on the default value. The default value will change from 3 to 5 in version 0.22.\n",
      "  warnings.warn(CV_WARNING, FutureWarning)\n",
      "/Users/zhicongchen/anaconda3/lib/python3.7/site-packages/sklearn/model_selection/_split.py:652: Warning: The least populated class in y has only 1 members, which is too few. The minimum number of members in any class cannot be less than n_splits=3.\n",
      "  % (min_groups, self.n_splits)), Warning)\n",
      "/Users/zhicongchen/anaconda3/lib/python3.7/site-packages/sklearn/model_selection/_search.py:841: DeprecationWarning: The default of the `iid` parameter will change from True to False in version 0.22 and will be removed in 0.24. This will change numeric results when test-set sizes are unequal.\n",
      "  DeprecationWarning)\n"
     ]
    },
    {
     "name": "stdout",
     "output_type": "stream",
     "text": [
      "Index(['user_name', 'user_statuses_count', 'user_followers_count',\n",
      "       'user_friends_count', 'user_verified', 'user_protected',\n",
      "       'user_gender_F', 'user_gender_M', 'user_lang_ar', 'user_lang_bn',\n",
      "       'user_lang_ca', 'user_lang_cs', 'user_lang_de', 'user_lang_el',\n",
      "       'user_lang_en', 'user_lang_en-GB', 'user_lang_en-gb', 'user_lang_es',\n",
      "       'user_lang_fa', 'user_lang_fi', 'user_lang_fr', 'user_lang_id',\n",
      "       'user_lang_it', 'user_lang_ja', 'user_lang_ko', 'user_lang_nl',\n",
      "       'user_lang_pt', 'user_lang_ru', 'user_lang_sv', 'user_lang_th',\n",
      "       'user_lang_tr', 'user_lang_vi', 'user_lang_zh-CN', 'user_lang_zh-HK',\n",
      "       'user_lang_zh-Hans', 'user_lang_zh-TW', 'user_lang_zh-cn',\n",
      "       'user_lang_zh-tw', 'user_register_year_2006', 'user_register_year_2007',\n",
      "       'user_register_year_2008', 'user_register_year_2009',\n",
      "       'user_register_year_2010', 'user_register_year_2011',\n",
      "       'user_register_year_2012', 'user_register_year_2013',\n",
      "       'user_register_year_2014', 'user_register_year_2015',\n",
      "       'user_register_year_2016', 'user_register_year_2017',\n",
      "       'user_register_year_2018', 'user_register_day_0', 'user_register_day_1',\n",
      "       'user_register_day_2', 'user_register_day_3', 'user_register_day_4',\n",
      "       'user_register_day_5', 'user_register_day_6', 'user_register_hour_0',\n",
      "       'user_register_hour_1', 'user_register_hour_2', 'user_register_hour_3',\n",
      "       'user_register_hour_4', 'user_register_hour_5', 'user_register_hour_6',\n",
      "       'user_register_hour_7', 'user_register_hour_8', 'user_register_hour_9',\n",
      "       'user_register_hour_10', 'user_register_hour_11',\n",
      "       'user_register_hour_12', 'user_register_hour_13',\n",
      "       'user_register_hour_14', 'user_register_hour_15',\n",
      "       'user_register_hour_16', 'user_register_hour_17',\n",
      "       'user_register_hour_18', 'user_register_hour_19',\n",
      "       'user_register_hour_20', 'user_register_hour_21',\n",
      "       'user_register_hour_22', 'user_register_hour_23'],\n",
      "      dtype='object')\n",
      "0.3520632133450395\n",
      "{'max_depth': 25, 'n_estimators': 1200}\n",
      "RandomForestClassifier(bootstrap=True, class_weight=None, criterion='gini',\n",
      "            max_depth=25, max_features='sqrt', max_leaf_nodes=None,\n",
      "            min_impurity_decrease=0.0, min_impurity_split=None,\n",
      "            min_samples_leaf=1, min_samples_split=2,\n",
      "            min_weight_fraction_leaf=0.0, n_estimators=1200, n_jobs=None,\n",
      "            oob_score=False, random_state=None, verbose=0,\n",
      "            warm_start=False)\n"
     ]
    }
   ],
   "source": [
    "gender_features = [c for c in df_refined.columns if 'user_country_' in c or 'user_state_' in c or 'user_city_' in c]\n",
    "\n",
    "df_classification = pd.concat([df_refined.drop(gender_features, axis = 1), \\\n",
    "                               df['user_country']], axis = 1).dropna()\n",
    "\n",
    "X = df_classification.drop('user_country', axis = 1)\n",
    "y = df_classification['user_country']\n",
    "\n",
    "# split training sets and testing sets\n",
    "from sklearn.model_selection import train_test_split\n",
    "X_train, X_test, y_train, y_test = train_test_split(X, y, test_size=0.2, random_state=42)\n",
    "\n",
    "# choose a classifier\n",
    "from sklearn.ensemble import RandomForestClassifier\n",
    "RFC = RandomForestClassifier(max_features = \"sqrt\")\n",
    "\n",
    "from sklearn.model_selection import GridSearchCV\n",
    "parameters = {\"max_depth\":[5, 8, 25], \"n_estimators\":[800, 1200]}\n",
    "clf = GridSearchCV(RFC, parameters)\n",
    "clf.fit(X, y)\n",
    "\n",
    "print(X.columns)\n",
    "print(clf.best_score_)\n",
    "print(clf.best_params_)\n",
    "print(clf.best_estimator_)"
   ]
  },
  {
   "cell_type": "markdown",
   "metadata": {},
   "source": [
    "## Predicting User Statuses Count"
   ]
  },
  {
   "cell_type": "code",
   "execution_count": 29,
   "metadata": {
    "ExecuteTime": {
     "end_time": "2019-01-12T03:46:14.419697Z",
     "start_time": "2019-01-12T03:45:11.584593Z"
    }
   },
   "outputs": [
    {
     "name": "stderr",
     "output_type": "stream",
     "text": [
      "/Users/zhicongchen/anaconda3/lib/python3.7/site-packages/sklearn/model_selection/_split.py:2053: FutureWarning: You should specify a value for 'cv' instead of relying on the default value. The default value will change from 3 to 5 in version 0.22.\n",
      "  warnings.warn(CV_WARNING, FutureWarning)\n"
     ]
    },
    {
     "name": "stdout",
     "output_type": "stream",
     "text": [
      "Index(['user_name', 'user_followers_count', 'user_friends_count',\n",
      "       'user_verified', 'user_protected', 'ar', 'bn', 'ca', 'cs', 'de',\n",
      "       ...\n",
      "       'Washington, D.C.', 'Wellington', 'Worcester', 'Yaounde', 'Yerevan',\n",
      "       'Yogyakarta', 'York', 'Zagreb', 'Zaragoza', 'Zürich'],\n",
      "      dtype='object', length=653)\n",
      "0.049374762586871256\n",
      "{'max_depth': 25, 'n_estimators': 800}\n",
      "RandomForestRegressor(bootstrap=True, criterion='mse', max_depth=25,\n",
      "           max_features='sqrt', max_leaf_nodes=None,\n",
      "           min_impurity_decrease=0.0, min_impurity_split=None,\n",
      "           min_samples_leaf=1, min_samples_split=2,\n",
      "           min_weight_fraction_leaf=0.0, n_estimators=800, n_jobs=None,\n",
      "           oob_score=False, random_state=None, verbose=0, warm_start=False)\n"
     ]
    }
   ],
   "source": [
    "df_refined = df[numeric_features].dropna()\n",
    "categorical_features = ['user_lang', \\\n",
    "                        'user_gender', \\\n",
    "                     'user_country', \\\n",
    "                     'user_state', \\\n",
    "                     'user_city']\n",
    "\n",
    "for feature in categorical_features:\n",
    "    df_refined = pd.concat([df_refined, pd.get_dummies(df[feature], columns=False)], axis=1) \n",
    "\n",
    "X = df_refined.drop('user_statuses_count', axis = 1)\n",
    "y = df_refined['user_statuses_count']\n",
    "\n",
    "# split training sets and testing sets\n",
    "from sklearn.model_selection import train_test_split\n",
    "X_train, X_test, y_train, y_test = train_test_split(X, y, test_size=0.2, random_state=42)\n",
    "\n",
    "# choose a classifier\n",
    "from sklearn.ensemble import RandomForestRegressor\n",
    "RFR = RandomForestRegressor(max_features = \"sqrt\")\n",
    "\n",
    "from sklearn.model_selection import GridSearchCV\n",
    "parameters = {\"max_depth\":[5, 8, 25], \"n_estimators\":[800, 1200]}\n",
    "clf = GridSearchCV(RFR, parameters)\n",
    "clf.fit(X, y)\n",
    "\n",
    "print(X.columns)\n",
    "print(clf.best_score_)\n",
    "print(clf.best_params_)\n",
    "print(clf.best_estimator_)"
   ]
  },
  {
   "cell_type": "code",
   "execution_count": 30,
   "metadata": {
    "ExecuteTime": {
     "end_time": "2019-01-12T03:46:14.766523Z",
     "start_time": "2019-01-12T03:46:14.421671Z"
    }
   },
   "outputs": [
    {
     "data": {
      "text/html": [
       "<div>\n",
       "<style scoped>\n",
       "    .dataframe tbody tr th:only-of-type {\n",
       "        vertical-align: middle;\n",
       "    }\n",
       "\n",
       "    .dataframe tbody tr th {\n",
       "        vertical-align: top;\n",
       "    }\n",
       "\n",
       "    .dataframe thead th {\n",
       "        text-align: right;\n",
       "    }\n",
       "</style>\n",
       "<table border=\"1\" class=\"dataframe\">\n",
       "  <thead>\n",
       "    <tr style=\"text-align: right;\">\n",
       "      <th></th>\n",
       "      <th>user_name</th>\n",
       "      <th>user_statuses_count</th>\n",
       "      <th>user_followers_count</th>\n",
       "      <th>user_friends_count</th>\n",
       "      <th>user_verified</th>\n",
       "      <th>user_protected</th>\n",
       "      <th>ar</th>\n",
       "      <th>bn</th>\n",
       "      <th>ca</th>\n",
       "      <th>cs</th>\n",
       "      <th>...</th>\n",
       "      <th>topic0</th>\n",
       "      <th>topic1</th>\n",
       "      <th>topic2</th>\n",
       "      <th>topic3</th>\n",
       "      <th>topic4</th>\n",
       "      <th>topic5</th>\n",
       "      <th>topic6</th>\n",
       "      <th>topic7</th>\n",
       "      <th>topic8</th>\n",
       "      <th>topic9</th>\n",
       "    </tr>\n",
       "  </thead>\n",
       "  <tbody>\n",
       "    <tr>\n",
       "      <th>0</th>\n",
       "      <td>1385</td>\n",
       "      <td>2037</td>\n",
       "      <td>126</td>\n",
       "      <td>130</td>\n",
       "      <td>False</td>\n",
       "      <td>False</td>\n",
       "      <td>0</td>\n",
       "      <td>0</td>\n",
       "      <td>0</td>\n",
       "      <td>0</td>\n",
       "      <td>...</td>\n",
       "      <td>0.032087</td>\n",
       "      <td>0.568993</td>\n",
       "      <td>0.032087</td>\n",
       "      <td>0.032087</td>\n",
       "      <td>0.032087</td>\n",
       "      <td>0.174312</td>\n",
       "      <td>0.032087</td>\n",
       "      <td>0.032087</td>\n",
       "      <td>0.032088</td>\n",
       "      <td>0.032087</td>\n",
       "    </tr>\n",
       "    <tr>\n",
       "      <th>1</th>\n",
       "      <td>1386</td>\n",
       "      <td>59032</td>\n",
       "      <td>1768</td>\n",
       "      <td>2235</td>\n",
       "      <td>False</td>\n",
       "      <td>False</td>\n",
       "      <td>0</td>\n",
       "      <td>0</td>\n",
       "      <td>0</td>\n",
       "      <td>0</td>\n",
       "      <td>...</td>\n",
       "      <td>0.028252</td>\n",
       "      <td>0.745728</td>\n",
       "      <td>0.028252</td>\n",
       "      <td>0.028252</td>\n",
       "      <td>0.028253</td>\n",
       "      <td>0.028252</td>\n",
       "      <td>0.028252</td>\n",
       "      <td>0.028252</td>\n",
       "      <td>0.028253</td>\n",
       "      <td>0.028252</td>\n",
       "    </tr>\n",
       "    <tr>\n",
       "      <th>2</th>\n",
       "      <td>1386</td>\n",
       "      <td>59032</td>\n",
       "      <td>1768</td>\n",
       "      <td>2235</td>\n",
       "      <td>False</td>\n",
       "      <td>False</td>\n",
       "      <td>0</td>\n",
       "      <td>0</td>\n",
       "      <td>0</td>\n",
       "      <td>0</td>\n",
       "      <td>...</td>\n",
       "      <td>0.028252</td>\n",
       "      <td>0.745728</td>\n",
       "      <td>0.028252</td>\n",
       "      <td>0.028252</td>\n",
       "      <td>0.028253</td>\n",
       "      <td>0.028252</td>\n",
       "      <td>0.028252</td>\n",
       "      <td>0.028252</td>\n",
       "      <td>0.028253</td>\n",
       "      <td>0.028252</td>\n",
       "    </tr>\n",
       "    <tr>\n",
       "      <th>3</th>\n",
       "      <td>1387</td>\n",
       "      <td>915</td>\n",
       "      <td>53</td>\n",
       "      <td>54</td>\n",
       "      <td>False</td>\n",
       "      <td>False</td>\n",
       "      <td>0</td>\n",
       "      <td>0</td>\n",
       "      <td>0</td>\n",
       "      <td>0</td>\n",
       "      <td>...</td>\n",
       "      <td>0.024163</td>\n",
       "      <td>0.024170</td>\n",
       "      <td>0.024163</td>\n",
       "      <td>0.024163</td>\n",
       "      <td>0.782525</td>\n",
       "      <td>0.024163</td>\n",
       "      <td>0.024163</td>\n",
       "      <td>0.024163</td>\n",
       "      <td>0.024165</td>\n",
       "      <td>0.024163</td>\n",
       "    </tr>\n",
       "    <tr>\n",
       "      <th>4</th>\n",
       "      <td>1388</td>\n",
       "      <td>270</td>\n",
       "      <td>14</td>\n",
       "      <td>57</td>\n",
       "      <td>False</td>\n",
       "      <td>False</td>\n",
       "      <td>0</td>\n",
       "      <td>0</td>\n",
       "      <td>0</td>\n",
       "      <td>0</td>\n",
       "      <td>...</td>\n",
       "      <td>0.031802</td>\n",
       "      <td>0.713776</td>\n",
       "      <td>0.031802</td>\n",
       "      <td>0.031802</td>\n",
       "      <td>0.031802</td>\n",
       "      <td>0.031802</td>\n",
       "      <td>0.031802</td>\n",
       "      <td>0.031802</td>\n",
       "      <td>0.031810</td>\n",
       "      <td>0.031802</td>\n",
       "    </tr>\n",
       "  </tbody>\n",
       "</table>\n",
       "<p>5 rows × 665 columns</p>\n",
       "</div>"
      ],
      "text/plain": [
       "   user_name  user_statuses_count  user_followers_count  user_friends_count  \\\n",
       "0       1385                 2037                   126                 130   \n",
       "1       1386                59032                  1768                2235   \n",
       "2       1386                59032                  1768                2235   \n",
       "3       1387                  915                    53                  54   \n",
       "4       1388                  270                    14                  57   \n",
       "\n",
       "   user_verified  user_protected  ar  bn  ca  cs    ...       topic0  \\\n",
       "0          False           False   0   0   0   0    ...     0.032087   \n",
       "1          False           False   0   0   0   0    ...     0.028252   \n",
       "2          False           False   0   0   0   0    ...     0.028252   \n",
       "3          False           False   0   0   0   0    ...     0.024163   \n",
       "4          False           False   0   0   0   0    ...     0.031802   \n",
       "\n",
       "     topic1    topic2    topic3    topic4    topic5    topic6    topic7  \\\n",
       "0  0.568993  0.032087  0.032087  0.032087  0.174312  0.032087  0.032087   \n",
       "1  0.745728  0.028252  0.028252  0.028253  0.028252  0.028252  0.028252   \n",
       "2  0.745728  0.028252  0.028252  0.028253  0.028252  0.028252  0.028252   \n",
       "3  0.024170  0.024163  0.024163  0.782525  0.024163  0.024163  0.024163   \n",
       "4  0.713776  0.031802  0.031802  0.031802  0.031802  0.031802  0.031802   \n",
       "\n",
       "     topic8    topic9  \n",
       "0  0.032088  0.032087  \n",
       "1  0.028253  0.028252  \n",
       "2  0.028253  0.028252  \n",
       "3  0.024165  0.024163  \n",
       "4  0.031810  0.031802  \n",
       "\n",
       "[5 rows x 665 columns]"
      ]
     },
     "execution_count": 30,
     "metadata": {},
     "output_type": "execute_result"
    }
   ],
   "source": [
    "# add user topics\n",
    "\n",
    "user_to_topic = pd.read_excel('../data/topic model result/user_to_topic.xlsx')\n",
    "user_to_topic.head()\n",
    "\n",
    "df_refined = df_refined.merge(user_to_topic, left_on = 'user_name', right_on = 'author_anonymous', how = 'left')\n",
    "df_refined.head()"
   ]
  },
  {
   "cell_type": "code",
   "execution_count": 17,
   "metadata": {
    "ExecuteTime": {
     "end_time": "2019-01-13T02:01:56.804232Z",
     "start_time": "2019-01-13T02:01:56.799916Z"
    },
    "scrolled": true
   },
   "outputs": [
    {
     "data": {
      "text/plain": [
       "0            ☀️☀️☀️\n",
       "1               NaN\n",
       "2         挺文貴最早之戰友！\n",
       "3          自由，民主，法制\n",
       "4    老牌美国之音，新版VOA卫视\n",
       "Name: user_description, dtype: object"
      ]
     },
     "execution_count": 17,
     "metadata": {},
     "output_type": "execute_result"
    }
   ],
   "source": [
    "# add user description\n",
    "\n",
    "df['user_description'].head()"
   ]
  },
  {
   "cell_type": "code",
   "execution_count": null,
   "metadata": {},
   "outputs": [],
   "source": []
  },
  {
   "cell_type": "code",
   "execution_count": null,
   "metadata": {},
   "outputs": [],
   "source": []
  }
 ],
 "metadata": {
  "celltoolbar": "Slideshow",
  "kernelspec": {
   "display_name": "Python 3",
   "language": "python",
   "name": "python3"
  },
  "language_info": {
   "codemirror_mode": {
    "name": "ipython",
    "version": 3
   },
   "file_extension": ".py",
   "mimetype": "text/x-python",
   "name": "python",
   "nbconvert_exporter": "python",
   "pygments_lexer": "ipython3",
   "version": "3.7.1"
  },
  "toc": {
   "base_numbering": 1,
   "nav_menu": {},
   "number_sections": false,
   "sideBar": true,
   "skip_h1_title": false,
   "title_cell": "Table of Contents",
   "title_sidebar": "Contents",
   "toc_cell": false,
   "toc_position": {
    "height": "442.135px",
    "left": "991.997px",
    "top": "109.722px",
    "width": "262.865px"
   },
   "toc_section_display": true,
   "toc_window_display": true
  },
  "varInspector": {
   "cols": {
    "lenName": 16,
    "lenType": 16,
    "lenVar": 40
   },
   "kernels_config": {
    "python": {
     "delete_cmd_postfix": "",
     "delete_cmd_prefix": "del ",
     "library": "var_list.py",
     "varRefreshCmd": "print(var_dic_list())"
    },
    "r": {
     "delete_cmd_postfix": ") ",
     "delete_cmd_prefix": "rm(",
     "library": "var_list.r",
     "varRefreshCmd": "cat(var_dic_list()) "
    }
   },
   "types_to_exclude": [
    "module",
    "function",
    "builtin_function_or_method",
    "instance",
    "_Feature"
   ],
   "window_display": false
  }
 },
 "nbformat": 4,
 "nbformat_minor": 2
}
